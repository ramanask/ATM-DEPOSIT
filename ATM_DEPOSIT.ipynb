{
  "nbformat": 4,
  "nbformat_minor": 0,
  "metadata": {
    "colab": {
      "provenance": [],
      "authorship_tag": "ABX9TyP9+L+eCKxaN2v94UpIdute",
      "include_colab_link": true
    },
    "kernelspec": {
      "name": "python3",
      "display_name": "Python 3"
    },
    "language_info": {
      "name": "python"
    }
  },
  "cells": [
    {
      "cell_type": "markdown",
      "metadata": {
        "id": "view-in-github",
        "colab_type": "text"
      },
      "source": [
        "<a href=\"https://colab.research.google.com/github/ramanask/ATM-DEPOSIT/blob/main/ATM_DEPOSIT.ipynb\" target=\"_parent\"><img src=\"https://colab.research.google.com/assets/colab-badge.svg\" alt=\"Open In Colab\"/></a>"
      ]
    },
    {
      "cell_type": "code",
      "source": [
        "\n",
        "balance = 1000\n",
        "\n",
        "print(\"Welcome To SBI\")\n",
        "print(\"1. Deposit\")\n",
        "print(\"2. Withdraw\")\n",
        "print(\"3. Check Balance\")\n",
        "print(\"4. Transfer\")\n",
        "\n",
        "choice = int(input(\"Enter the choice: \"))\n",
        "\n",
        "\n",
        "\n",
        "def deposit(amount, balance):\n",
        "    balance += amount\n",
        "    print(\"Amount Deposited: \",amount)\n",
        "    print(\"New Balance:\",balance)\n",
        "    return balance\n",
        "\n",
        "def withdraw(amount, balance):\n",
        "    if amount > balance:\n",
        "        print(\"Insufficient balance\")\n",
        "    else:\n",
        "        balance -= amount\n",
        "        print(\"Amount Withdrawn:\",amount)\n",
        "        print(\"Remaining Balance:\",balance)\n",
        "    return balance\n",
        "\n",
        "def check_balance(balance):\n",
        "    print(\"Current Balance:\",balance)\n",
        "\n",
        "def transfer(amount, balance):\n",
        "    if amount > balance:\n",
        "        print(\"Insufficient balance for transfer\")\n",
        "    else:\n",
        "        balance -= amount\n",
        "        print(\"Amount Transferred:\",amount)\n",
        "        print(\"Remaining Balance:\",balance)\n",
        "    return balance\n",
        "if choice == 1 or choice == 2:\n",
        "    amount = int(input(\"Enter the amount: \"))\n",
        "\n",
        "if choice == 1:\n",
        "    balance = deposit(amount, balance)\n",
        "elif choice == 2:\n",
        "    balance = withdraw(amount, balance)\n",
        "elif choice == 3:\n",
        "    check_balance(balance)\n",
        "elif choice == 4:\n",
        "    amount = int(input(\"Enter the transfer amount: \"))\n",
        "    balance = transfer(amount, balance)\n",
        "else:\n",
        "    print(\"Invalid choice\")\n",
        "\n",
        "\n"
      ],
      "metadata": {
        "colab": {
          "base_uri": "https://localhost:8080/"
        },
        "id": "krUXILkw5z9J",
        "outputId": "19706276-9a0a-460b-9d06-1c1f71de54d7"
      },
      "execution_count": null,
      "outputs": [
        {
          "output_type": "stream",
          "name": "stdout",
          "text": [
            "Welcome To SBI\n",
            "1. Deposit\n",
            "2. Withdraw\n",
            "3. Check Balance\n",
            "4. Transfer\n",
            "Enter the choice: 1\n",
            "Enter the amount: 500\n",
            "Amount Deposited:  500\n",
            "New Balance: 1500\n"
          ]
        }
      ]
    }
  ]
}